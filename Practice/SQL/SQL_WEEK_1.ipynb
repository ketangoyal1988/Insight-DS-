{
 "cells": [
  {
   "cell_type": "code",
   "execution_count": 1,
   "metadata": {
    "collapsed": true
   },
   "outputs": [],
   "source": [
    "%load_ext sql"
   ]
  },
  {
   "cell_type": "code",
   "execution_count": 2,
   "metadata": {
    "collapsed": false
   },
   "outputs": [
    {
     "data": {
      "text/plain": [
       "u'Connected: @week1'"
      ]
     },
     "execution_count": 2,
     "metadata": {},
     "output_type": "execute_result"
    }
   ],
   "source": [
    "%sql sqlite:///week1"
   ]
  },
  {
   "cell_type": "code",
   "execution_count": 3,
   "metadata": {
    "collapsed": false
   },
   "outputs": [
    {
     "name": "stdout",
     "output_type": "stream",
     "text": [
      " * @week1\n",
      " * sqlite:///week1\n",
      "(sqlite3.OperationalError) table articles already exists [SQL: u'CREATE TABLE articles (\\n    id INTEGER PRIMARY KEY AUTOINCREMENT,\\n    username varchar(255),\\n    time datetime,\\n    article_id varchar(255)\\n);']\n"
     ]
    }
   ],
   "source": [
    "%%sql\n",
    "CREATE TABLE articles (\n",
    "    id INTEGER PRIMARY KEY AUTOINCREMENT,\n",
    "    username varchar(255),\n",
    "    time datetime,\n",
    "    article_id varchar(255)\n",
    ");"
   ]
  },
  {
   "cell_type": "code",
   "execution_count": 4,
   "metadata": {
    "collapsed": false,
    "scrolled": true
   },
   "outputs": [
    {
     "name": "stdout",
     "output_type": "stream",
     "text": [
      " * @week1\n",
      " * sqlite:///week1\n",
      "1 rows affected.\n",
      " * @week1\n",
      " * sqlite:///week1\n",
      "1 rows affected.\n",
      " * @week1\n",
      " * sqlite:///week1\n",
      "1 rows affected.\n",
      " * @week1\n",
      " * sqlite:///week1\n",
      "1 rows affected.\n",
      " * @week1\n",
      " * sqlite:///week1\n",
      "1 rows affected.\n",
      " * @week1\n",
      " * sqlite:///week1\n",
      "1 rows affected.\n",
      " * @week1\n",
      " * sqlite:///week1\n",
      "1 rows affected.\n",
      " * @week1\n",
      " * sqlite:///week1\n",
      "1 rows affected.\n",
      " * @week1\n",
      " * sqlite:///week1\n",
      "1 rows affected.\n"
     ]
    },
    {
     "data": {
      "text/plain": [
       "[]"
      ]
     },
     "execution_count": 4,
     "metadata": {},
     "output_type": "execute_result"
    }
   ],
   "source": [
    "%sql insert into articles (username, time, article_id) values(\"John\", \"2015-07-19 18:46:49\", \"3\")\n",
    "%sql insert into articles (username, time, article_id) values(\"John\", \"2015-07-19 18:46:52\", \"2\")\n",
    "%sql insert into articles (username, time, article_id) values(\"John\", \"2015-07-19 18:46:54\", \"1\")\n",
    "%sql insert into articles (username, time, article_id) values(\"John\", \"2015-07-19 18:46:56\", \"10\")\n",
    "%sql insert into articles (username, time, article_id) values(\"John\", \"2015-07-19 18:46:58\", \"12\")\n",
    "%sql insert into articles (username, time, article_id) values(\"Mike\", \"2015-07-19 18:47:00\", \"2\")\n",
    "%sql insert into articles (username, time, article_id) values(\"Lori\", \"2015-07-19 18:47:02\", \"21\")\n",
    "%sql insert into articles (username, time, article_id) values(\"Lori\", \"2015-07-19 18:47:05\", \"10\")\n",
    "%sql insert into articles (username, time, article_id) values(\"Lori\", \"2015-07-19 18:47:07\", \"2\")"
   ]
  },
  {
   "cell_type": "code",
   "execution_count": 5,
   "metadata": {
    "collapsed": false
   },
   "outputs": [
    {
     "name": "stdout",
     "output_type": "stream",
     "text": [
      " * @week1\n",
      " * sqlite:///week1\n",
      "Done.\n"
     ]
    },
    {
     "data": {
      "text/html": [
       "<table>\n",
       "    <tr>\n",
       "        <th>id</th>\n",
       "        <th>username</th>\n",
       "        <th>time</th>\n",
       "        <th>article_id</th>\n",
       "    </tr>\n",
       "    <tr>\n",
       "        <td>1</td>\n",
       "        <td>John</td>\n",
       "        <td>2015-07-19 18:46:49</td>\n",
       "        <td>3</td>\n",
       "    </tr>\n",
       "    <tr>\n",
       "        <td>2</td>\n",
       "        <td>John</td>\n",
       "        <td>2015-07-19 18:46:52</td>\n",
       "        <td>2</td>\n",
       "    </tr>\n",
       "    <tr>\n",
       "        <td>3</td>\n",
       "        <td>John</td>\n",
       "        <td>2015-07-19 18:46:54</td>\n",
       "        <td>1</td>\n",
       "    </tr>\n",
       "    <tr>\n",
       "        <td>4</td>\n",
       "        <td>John</td>\n",
       "        <td>2015-07-19 18:46:49</td>\n",
       "        <td>3</td>\n",
       "    </tr>\n",
       "    <tr>\n",
       "        <td>5</td>\n",
       "        <td>John</td>\n",
       "        <td>2015-07-19 18:46:52</td>\n",
       "        <td>2</td>\n",
       "    </tr>\n",
       "    <tr>\n",
       "        <td>6</td>\n",
       "        <td>John</td>\n",
       "        <td>2015-07-19 18:46:54</td>\n",
       "        <td>1</td>\n",
       "    </tr>\n",
       "    <tr>\n",
       "        <td>7</td>\n",
       "        <td>John</td>\n",
       "        <td>2015-07-19 18:46:56</td>\n",
       "        <td>10</td>\n",
       "    </tr>\n",
       "    <tr>\n",
       "        <td>8</td>\n",
       "        <td>John</td>\n",
       "        <td>2015-07-19 18:46:58</td>\n",
       "        <td>12</td>\n",
       "    </tr>\n",
       "    <tr>\n",
       "        <td>9</td>\n",
       "        <td>Mike</td>\n",
       "        <td>2015-07-19 18:47:00</td>\n",
       "        <td>2</td>\n",
       "    </tr>\n",
       "    <tr>\n",
       "        <td>10</td>\n",
       "        <td>Lori</td>\n",
       "        <td>2015-07-19 18:47:02</td>\n",
       "        <td>21</td>\n",
       "    </tr>\n",
       "    <tr>\n",
       "        <td>11</td>\n",
       "        <td>Lori</td>\n",
       "        <td>2015-07-19 18:47:05</td>\n",
       "        <td>10</td>\n",
       "    </tr>\n",
       "    <tr>\n",
       "        <td>12</td>\n",
       "        <td>Lori</td>\n",
       "        <td>2015-07-19 18:47:07</td>\n",
       "        <td>2</td>\n",
       "    </tr>\n",
       "    <tr>\n",
       "        <td>13</td>\n",
       "        <td>John</td>\n",
       "        <td>2015-07-19 18:46:49</td>\n",
       "        <td>3</td>\n",
       "    </tr>\n",
       "    <tr>\n",
       "        <td>14</td>\n",
       "        <td>John</td>\n",
       "        <td>2015-07-19 18:46:52</td>\n",
       "        <td>2</td>\n",
       "    </tr>\n",
       "    <tr>\n",
       "        <td>15</td>\n",
       "        <td>John</td>\n",
       "        <td>2015-07-19 18:46:54</td>\n",
       "        <td>1</td>\n",
       "    </tr>\n",
       "    <tr>\n",
       "        <td>16</td>\n",
       "        <td>John</td>\n",
       "        <td>2015-07-19 18:46:56</td>\n",
       "        <td>10</td>\n",
       "    </tr>\n",
       "    <tr>\n",
       "        <td>17</td>\n",
       "        <td>John</td>\n",
       "        <td>2015-07-19 18:46:58</td>\n",
       "        <td>12</td>\n",
       "    </tr>\n",
       "    <tr>\n",
       "        <td>18</td>\n",
       "        <td>Mike</td>\n",
       "        <td>2015-07-19 18:47:00</td>\n",
       "        <td>2</td>\n",
       "    </tr>\n",
       "    <tr>\n",
       "        <td>19</td>\n",
       "        <td>Lori</td>\n",
       "        <td>2015-07-19 18:47:02</td>\n",
       "        <td>21</td>\n",
       "    </tr>\n",
       "    <tr>\n",
       "        <td>20</td>\n",
       "        <td>Lori</td>\n",
       "        <td>2015-07-19 18:47:05</td>\n",
       "        <td>10</td>\n",
       "    </tr>\n",
       "    <tr>\n",
       "        <td>21</td>\n",
       "        <td>Lori</td>\n",
       "        <td>2015-07-19 18:47:07</td>\n",
       "        <td>2</td>\n",
       "    </tr>\n",
       "</table>"
      ],
      "text/plain": [
       "[(1, u'John', u'2015-07-19 18:46:49', u'3'),\n",
       " (2, u'John', u'2015-07-19 18:46:52', u'2'),\n",
       " (3, u'John', u'2015-07-19 18:46:54', u'1'),\n",
       " (4, u'John', u'2015-07-19 18:46:49', u'3'),\n",
       " (5, u'John', u'2015-07-19 18:46:52', u'2'),\n",
       " (6, u'John', u'2015-07-19 18:46:54', u'1'),\n",
       " (7, u'John', u'2015-07-19 18:46:56', u'10'),\n",
       " (8, u'John', u'2015-07-19 18:46:58', u'12'),\n",
       " (9, u'Mike', u'2015-07-19 18:47:00', u'2'),\n",
       " (10, u'Lori', u'2015-07-19 18:47:02', u'21'),\n",
       " (11, u'Lori', u'2015-07-19 18:47:05', u'10'),\n",
       " (12, u'Lori', u'2015-07-19 18:47:07', u'2'),\n",
       " (13, u'John', u'2015-07-19 18:46:49', u'3'),\n",
       " (14, u'John', u'2015-07-19 18:46:52', u'2'),\n",
       " (15, u'John', u'2015-07-19 18:46:54', u'1'),\n",
       " (16, u'John', u'2015-07-19 18:46:56', u'10'),\n",
       " (17, u'John', u'2015-07-19 18:46:58', u'12'),\n",
       " (18, u'Mike', u'2015-07-19 18:47:00', u'2'),\n",
       " (19, u'Lori', u'2015-07-19 18:47:02', u'21'),\n",
       " (20, u'Lori', u'2015-07-19 18:47:05', u'10'),\n",
       " (21, u'Lori', u'2015-07-19 18:47:07', u'2')]"
      ]
     },
     "execution_count": 5,
     "metadata": {},
     "output_type": "execute_result"
    }
   ],
   "source": [
    "%sql select * from articles"
   ]
  },
  {
   "cell_type": "markdown",
   "metadata": {},
   "source": []
  },
  {
   "cell_type": "code",
   "execution_count": 11,
   "metadata": {
    "collapsed": false
   },
   "outputs": [
    {
     "name": "stdout",
     "output_type": "stream",
     "text": [
      " * @week1\n",
      " * sqlite:///week1\n",
      "Done.\n"
     ]
    },
    {
     "data": {
      "text/html": [
       "<table>\n",
       "    <tr>\n",
       "        <th>username</th>\n",
       "        <th>count</th>\n",
       "    </tr>\n",
       "    <tr>\n",
       "        <td>John</td>\n",
       "        <td>13</td>\n",
       "    </tr>\n",
       "</table>"
      ],
      "text/plain": [
       "[(u'John', 13)]"
      ]
     },
     "execution_count": 11,
     "metadata": {},
     "output_type": "execute_result"
    }
   ],
   "source": [
    "%sql SELECT username, COUNT(article_id) as count FROM articles GROUP BY username ORDER BY count DESC LIMIT 1;"
   ]
  },
  {
   "cell_type": "code",
   "execution_count": 35,
   "metadata": {
    "collapsed": false
   },
   "outputs": [
    {
     "name": "stdout",
     "output_type": "stream",
     "text": [
      " * @week1\n",
      " * sqlite:///week1\n",
      "Done.\n"
     ]
    },
    {
     "data": {
      "text/html": [
       "<table>\n",
       "    <tr>\n",
       "        <th>username</th>\n",
       "        <th>count</th>\n",
       "    </tr>\n",
       "    <tr>\n",
       "        <td>Mike</td>\n",
       "        <td>2</td>\n",
       "    </tr>\n",
       "</table>"
      ],
      "text/plain": [
       "[(u'Mike', 2)]"
      ]
     },
     "execution_count": 35,
     "metadata": {},
     "output_type": "execute_result"
    }
   ],
   "source": [
    "%sql SELECT * FROM (SELECT username, COUNT(article_id) as count FROM articles GROUP BY username) as temp WHERE temp.count = 2;"
   ]
  },
  {
   "cell_type": "code",
   "execution_count": 41,
   "metadata": {
    "collapsed": false
   },
   "outputs": [
    {
     "name": "stdout",
     "output_type": "stream",
     "text": [
      " * @week1\n",
      " * sqlite:///week1\n",
      "(sqlite3.OperationalError) misuse of aggregate: COUNT() [SQL: u'SELECT username, COUNT(article_id) as count FROM articles WHERE count = 2 GROUP BY username;']\n"
     ]
    }
   ],
   "source": [
    "%sql SELECT username, COUNT(article_id) as count FROM articles WHERE count = 2 GROUP BY username;"
   ]
  },
  {
   "cell_type": "code",
   "execution_count": 52,
   "metadata": {
    "collapsed": false
   },
   "outputs": [
    {
     "name": "stdout",
     "output_type": "stream",
     "text": [
      " * @week1\n",
      " * sqlite:///week1\n",
      "Done.\n"
     ]
    },
    {
     "data": {
      "text/html": [
       "<table>\n",
       "    <tr>\n",
       "        <th>username</th>\n",
       "        <th>count</th>\n",
       "    </tr>\n",
       "    <tr>\n",
       "        <td>John</td>\n",
       "        <td>13</td>\n",
       "    </tr>\n",
       "    <tr>\n",
       "        <td>Lori</td>\n",
       "        <td>6</td>\n",
       "    </tr>\n",
       "</table>"
      ],
      "text/plain": [
       "[(u'John', 13), (u'Lori', 6)]"
      ]
     },
     "execution_count": 52,
     "metadata": {},
     "output_type": "execute_result"
    }
   ],
   "source": [
    "%sql SELECT username, count FROM (SELECT username, COUNT(article_id) as count FROM articles GROUP BY username) where count >=3;"
   ]
  },
  {
   "cell_type": "code",
   "execution_count": 54,
   "metadata": {
    "collapsed": false
   },
   "outputs": [
    {
     "name": "stdout",
     "output_type": "stream",
     "text": [
      " * @week1\n",
      " * sqlite:///week1\n",
      "Done.\n"
     ]
    },
    {
     "data": {
      "text/plain": [
       "[]"
      ]
     },
     "execution_count": 54,
     "metadata": {},
     "output_type": "execute_result"
    }
   ],
   "source": [
    "%%sql\n",
    "CREATE VIEW temp_view AS\n",
    "SELECT username, COUNT(article_id) as count FROM articles GROUP BY username;"
   ]
  },
  {
   "cell_type": "code",
   "execution_count": 55,
   "metadata": {
    "collapsed": false
   },
   "outputs": [
    {
     "name": "stdout",
     "output_type": "stream",
     "text": [
      " * @week1\n",
      " * sqlite:///week1\n",
      "Done.\n"
     ]
    },
    {
     "data": {
      "text/html": [
       "<table>\n",
       "    <tr>\n",
       "        <th>username</th>\n",
       "        <th>count</th>\n",
       "    </tr>\n",
       "    <tr>\n",
       "        <td>John</td>\n",
       "        <td>13</td>\n",
       "    </tr>\n",
       "    <tr>\n",
       "        <td>Lori</td>\n",
       "        <td>6</td>\n",
       "    </tr>\n",
       "</table>"
      ],
      "text/plain": [
       "[(u'John', 13), (u'Lori', 6)]"
      ]
     },
     "execution_count": 55,
     "metadata": {},
     "output_type": "execute_result"
    }
   ],
   "source": [
    "%sql SELECT username, count FROM temp_view WHERE count > 2"
   ]
  },
  {
   "cell_type": "code",
   "execution_count": 59,
   "metadata": {
    "collapsed": false
   },
   "outputs": [
    {
     "name": "stdout",
     "output_type": "stream",
     "text": [
      " * @week1\n",
      " * sqlite:///week1\n",
      "Done.\n"
     ]
    },
    {
     "data": {
      "text/html": [
       "<table>\n",
       "    <tr>\n",
       "        <th>username</th>\n",
       "        <th>counts</th>\n",
       "    </tr>\n",
       "    <tr>\n",
       "        <td>John</td>\n",
       "        <td>13</td>\n",
       "    </tr>\n",
       "    <tr>\n",
       "        <td>Lori</td>\n",
       "        <td>6</td>\n",
       "    </tr>\n",
       "</table>"
      ],
      "text/plain": [
       "[(u'John', 13), (u'Lori', 6)]"
      ]
     },
     "execution_count": 59,
     "metadata": {},
     "output_type": "execute_result"
    }
   ],
   "source": [
    "%sql WITH temp AS (SELECT username, COUNT(article_id) as counts FROM articles GROUP BY username) SELECT username, counts FROM temp WHERE counts > 2;"
   ]
  },
  {
   "cell_type": "code",
   "execution_count": 61,
   "metadata": {
    "collapsed": false
   },
   "outputs": [
    {
     "name": "stdout",
     "output_type": "stream",
     "text": [
      " * @week1\n",
      " * sqlite:///week1\n",
      "Done.\n"
     ]
    },
    {
     "data": {
      "text/html": [
       "<table>\n",
       "    <tr>\n",
       "        <th>username</th>\n",
       "        <th>count</th>\n",
       "    </tr>\n",
       "    <tr>\n",
       "        <td>John</td>\n",
       "        <td>13</td>\n",
       "    </tr>\n",
       "    <tr>\n",
       "        <td>Lori</td>\n",
       "        <td>6</td>\n",
       "    </tr>\n",
       "    <tr>\n",
       "        <td>Mike</td>\n",
       "        <td>2</td>\n",
       "    </tr>\n",
       "</table>"
      ],
      "text/plain": [
       "[(u'John', 13), (u'Lori', 6), (u'Mike', 2)]"
      ]
     },
     "execution_count": 61,
     "metadata": {},
     "output_type": "execute_result"
    }
   ],
   "source": [
    "%sql SELECT username, COUNT(article_id) as count FROM articles GROUP BY username;"
   ]
  },
  {
   "cell_type": "code",
   "execution_count": null,
   "metadata": {
    "collapsed": true
   },
   "outputs": [],
   "source": [
    "# SELECT player_name,\n",
    "#        year,\n",
    "#        CASE WHEN year = 'SR' THEN 'yes'\n",
    "#             ELSE NULL END AS is_a_senior\n",
    "#   FROM benn.college_football_players"
   ]
  },
  {
   "cell_type": "code",
   "execution_count": 78,
   "metadata": {
    "collapsed": false
   },
   "outputs": [
    {
     "name": "stdout",
     "output_type": "stream",
     "text": [
      " * @week1\n",
      " * sqlite:///week1\n",
      "Done.\n"
     ]
    },
    {
     "data": {
      "text/html": [
       "<table>\n",
       "    <tr>\n",
       "        <th>username</th>\n",
       "        <th>count</th>\n",
       "        <th>reader_type</th>\n",
       "    </tr>\n",
       "    <tr>\n",
       "        <td>John</td>\n",
       "        <td>13</td>\n",
       "        <td>avid</td>\n",
       "    </tr>\n",
       "    <tr>\n",
       "        <td>Lori</td>\n",
       "        <td>6</td>\n",
       "        <td>avid</td>\n",
       "    </tr>\n",
       "    <tr>\n",
       "        <td>Mike</td>\n",
       "        <td>2</td>\n",
       "        <td>causal</td>\n",
       "    </tr>\n",
       "</table>"
      ],
      "text/plain": [
       "[(u'John', 13, u'avid'), (u'Lori', 6, u'avid'), (u'Mike', 2, u'causal')]"
      ]
     },
     "execution_count": 78,
     "metadata": {},
     "output_type": "execute_result"
    }
   ],
   "source": [
    "%%sql \n",
    "SELECT username, count, CASE WHEN count >= 3 THEN 'avid' ELSE 'causal' END AS reader_type FROM temp_view;"
   ]
  },
  {
   "cell_type": "code",
   "execution_count": 86,
   "metadata": {
    "collapsed": false
   },
   "outputs": [
    {
     "name": "stdout",
     "output_type": "stream",
     "text": [
      " * @week1\n",
      " * sqlite:///week1\n",
      "Done.\n"
     ]
    },
    {
     "data": {
      "text/html": [
       "<table>\n",
       "    <tr>\n",
       "        <th>username</th>\n",
       "        <th>time</th>\n",
       "        <th>article_id</th>\n",
       "    </tr>\n",
       "    <tr>\n",
       "        <td>John</td>\n",
       "        <td>2015-07-19 18:46:58</td>\n",
       "        <td>12</td>\n",
       "    </tr>\n",
       "    <tr>\n",
       "        <td>Lori</td>\n",
       "        <td>2015-07-19 18:47:07</td>\n",
       "        <td>2</td>\n",
       "    </tr>\n",
       "    <tr>\n",
       "        <td>Mike</td>\n",
       "        <td>2015-07-19 18:47:00</td>\n",
       "        <td>2</td>\n",
       "    </tr>\n",
       "</table>"
      ],
      "text/plain": [
       "[(u'John', u'2015-07-19 18:46:58', u'12'),\n",
       " (u'Lori', u'2015-07-19 18:47:07', u'2'),\n",
       " (u'Mike', u'2015-07-19 18:47:00', u'2')]"
      ]
     },
     "execution_count": 86,
     "metadata": {},
     "output_type": "execute_result"
    }
   ],
   "source": [
    "%sql SELECT username, time, article_id FROM articles GROUP BY username;"
   ]
  },
  {
   "cell_type": "code",
   "execution_count": 80,
   "metadata": {
    "collapsed": false
   },
   "outputs": [
    {
     "name": "stdout",
     "output_type": "stream",
     "text": [
      " * @week1\n",
      " * sqlite:///week1\n",
      "Done.\n"
     ]
    },
    {
     "data": {
      "text/html": [
       "<table>\n",
       "    <tr>\n",
       "        <th>id</th>\n",
       "        <th>username</th>\n",
       "        <th>time</th>\n",
       "        <th>article_id</th>\n",
       "    </tr>\n",
       "    <tr>\n",
       "        <td>1</td>\n",
       "        <td>John</td>\n",
       "        <td>2015-07-19 18:46:49</td>\n",
       "        <td>3</td>\n",
       "    </tr>\n",
       "    <tr>\n",
       "        <td>2</td>\n",
       "        <td>John</td>\n",
       "        <td>2015-07-19 18:46:52</td>\n",
       "        <td>2</td>\n",
       "    </tr>\n",
       "    <tr>\n",
       "        <td>3</td>\n",
       "        <td>John</td>\n",
       "        <td>2015-07-19 18:46:54</td>\n",
       "        <td>1</td>\n",
       "    </tr>\n",
       "    <tr>\n",
       "        <td>4</td>\n",
       "        <td>John</td>\n",
       "        <td>2015-07-19 18:46:49</td>\n",
       "        <td>3</td>\n",
       "    </tr>\n",
       "    <tr>\n",
       "        <td>5</td>\n",
       "        <td>John</td>\n",
       "        <td>2015-07-19 18:46:52</td>\n",
       "        <td>2</td>\n",
       "    </tr>\n",
       "    <tr>\n",
       "        <td>6</td>\n",
       "        <td>John</td>\n",
       "        <td>2015-07-19 18:46:54</td>\n",
       "        <td>1</td>\n",
       "    </tr>\n",
       "    <tr>\n",
       "        <td>7</td>\n",
       "        <td>John</td>\n",
       "        <td>2015-07-19 18:46:56</td>\n",
       "        <td>10</td>\n",
       "    </tr>\n",
       "    <tr>\n",
       "        <td>8</td>\n",
       "        <td>John</td>\n",
       "        <td>2015-07-19 18:46:58</td>\n",
       "        <td>12</td>\n",
       "    </tr>\n",
       "    <tr>\n",
       "        <td>9</td>\n",
       "        <td>Mike</td>\n",
       "        <td>2015-07-19 18:47:00</td>\n",
       "        <td>2</td>\n",
       "    </tr>\n",
       "    <tr>\n",
       "        <td>10</td>\n",
       "        <td>Lori</td>\n",
       "        <td>2015-07-19 18:47:02</td>\n",
       "        <td>21</td>\n",
       "    </tr>\n",
       "    <tr>\n",
       "        <td>11</td>\n",
       "        <td>Lori</td>\n",
       "        <td>2015-07-19 18:47:05</td>\n",
       "        <td>10</td>\n",
       "    </tr>\n",
       "    <tr>\n",
       "        <td>12</td>\n",
       "        <td>Lori</td>\n",
       "        <td>2015-07-19 18:47:07</td>\n",
       "        <td>2</td>\n",
       "    </tr>\n",
       "    <tr>\n",
       "        <td>13</td>\n",
       "        <td>John</td>\n",
       "        <td>2015-07-19 18:46:49</td>\n",
       "        <td>3</td>\n",
       "    </tr>\n",
       "    <tr>\n",
       "        <td>14</td>\n",
       "        <td>John</td>\n",
       "        <td>2015-07-19 18:46:52</td>\n",
       "        <td>2</td>\n",
       "    </tr>\n",
       "    <tr>\n",
       "        <td>15</td>\n",
       "        <td>John</td>\n",
       "        <td>2015-07-19 18:46:54</td>\n",
       "        <td>1</td>\n",
       "    </tr>\n",
       "    <tr>\n",
       "        <td>16</td>\n",
       "        <td>John</td>\n",
       "        <td>2015-07-19 18:46:56</td>\n",
       "        <td>10</td>\n",
       "    </tr>\n",
       "    <tr>\n",
       "        <td>17</td>\n",
       "        <td>John</td>\n",
       "        <td>2015-07-19 18:46:58</td>\n",
       "        <td>12</td>\n",
       "    </tr>\n",
       "    <tr>\n",
       "        <td>18</td>\n",
       "        <td>Mike</td>\n",
       "        <td>2015-07-19 18:47:00</td>\n",
       "        <td>2</td>\n",
       "    </tr>\n",
       "    <tr>\n",
       "        <td>19</td>\n",
       "        <td>Lori</td>\n",
       "        <td>2015-07-19 18:47:02</td>\n",
       "        <td>21</td>\n",
       "    </tr>\n",
       "    <tr>\n",
       "        <td>20</td>\n",
       "        <td>Lori</td>\n",
       "        <td>2015-07-19 18:47:05</td>\n",
       "        <td>10</td>\n",
       "    </tr>\n",
       "    <tr>\n",
       "        <td>21</td>\n",
       "        <td>Lori</td>\n",
       "        <td>2015-07-19 18:47:07</td>\n",
       "        <td>2</td>\n",
       "    </tr>\n",
       "</table>"
      ],
      "text/plain": [
       "[(1, u'John', u'2015-07-19 18:46:49', u'3'),\n",
       " (2, u'John', u'2015-07-19 18:46:52', u'2'),\n",
       " (3, u'John', u'2015-07-19 18:46:54', u'1'),\n",
       " (4, u'John', u'2015-07-19 18:46:49', u'3'),\n",
       " (5, u'John', u'2015-07-19 18:46:52', u'2'),\n",
       " (6, u'John', u'2015-07-19 18:46:54', u'1'),\n",
       " (7, u'John', u'2015-07-19 18:46:56', u'10'),\n",
       " (8, u'John', u'2015-07-19 18:46:58', u'12'),\n",
       " (9, u'Mike', u'2015-07-19 18:47:00', u'2'),\n",
       " (10, u'Lori', u'2015-07-19 18:47:02', u'21'),\n",
       " (11, u'Lori', u'2015-07-19 18:47:05', u'10'),\n",
       " (12, u'Lori', u'2015-07-19 18:47:07', u'2'),\n",
       " (13, u'John', u'2015-07-19 18:46:49', u'3'),\n",
       " (14, u'John', u'2015-07-19 18:46:52', u'2'),\n",
       " (15, u'John', u'2015-07-19 18:46:54', u'1'),\n",
       " (16, u'John', u'2015-07-19 18:46:56', u'10'),\n",
       " (17, u'John', u'2015-07-19 18:46:58', u'12'),\n",
       " (18, u'Mike', u'2015-07-19 18:47:00', u'2'),\n",
       " (19, u'Lori', u'2015-07-19 18:47:02', u'21'),\n",
       " (20, u'Lori', u'2015-07-19 18:47:05', u'10'),\n",
       " (21, u'Lori', u'2015-07-19 18:47:07', u'2')]"
      ]
     },
     "execution_count": 80,
     "metadata": {},
     "output_type": "execute_result"
    }
   ],
   "source": [
    "%sql select * from articles"
   ]
  },
  {
   "cell_type": "code",
   "execution_count": 89,
   "metadata": {
    "collapsed": false
   },
   "outputs": [
    {
     "name": "stdout",
     "output_type": "stream",
     "text": [
      " * @week1\n",
      " * sqlite:///week1\n",
      "Done.\n"
     ]
    },
    {
     "data": {
      "text/html": [
       "<table>\n",
       "    <tr>\n",
       "        <th>article_id</th>\n",
       "        <th>count</th>\n",
       "    </tr>\n",
       "    <tr>\n",
       "        <td>1</td>\n",
       "        <td>3</td>\n",
       "    </tr>\n",
       "    <tr>\n",
       "        <td>10</td>\n",
       "        <td>4</td>\n",
       "    </tr>\n",
       "    <tr>\n",
       "        <td>12</td>\n",
       "        <td>2</td>\n",
       "    </tr>\n",
       "    <tr>\n",
       "        <td>2</td>\n",
       "        <td>7</td>\n",
       "    </tr>\n",
       "    <tr>\n",
       "        <td>21</td>\n",
       "        <td>2</td>\n",
       "    </tr>\n",
       "    <tr>\n",
       "        <td>3</td>\n",
       "        <td>3</td>\n",
       "    </tr>\n",
       "</table>"
      ],
      "text/plain": [
       "[(u'1', 3), (u'10', 4), (u'12', 2), (u'2', 7), (u'21', 2), (u'3', 3)]"
      ]
     },
     "execution_count": 89,
     "metadata": {},
     "output_type": "execute_result"
    }
   ],
   "source": [
    "%sql SELECT article_id, COUNT(username) as count FROM articles GROUP BY article_id;"
   ]
  },
  {
   "cell_type": "code",
   "execution_count": null,
   "metadata": {
    "collapsed": true
   },
   "outputs": [],
   "source": []
  }
 ],
 "metadata": {
  "kernelspec": {
   "display_name": "Python 2",
   "language": "python",
   "name": "python2"
  },
  "language_info": {
   "codemirror_mode": {
    "name": "ipython",
    "version": 2
   },
   "file_extension": ".py",
   "mimetype": "text/x-python",
   "name": "python",
   "nbconvert_exporter": "python",
   "pygments_lexer": "ipython2",
   "version": "2.7.13"
  }
 },
 "nbformat": 4,
 "nbformat_minor": 2
}
